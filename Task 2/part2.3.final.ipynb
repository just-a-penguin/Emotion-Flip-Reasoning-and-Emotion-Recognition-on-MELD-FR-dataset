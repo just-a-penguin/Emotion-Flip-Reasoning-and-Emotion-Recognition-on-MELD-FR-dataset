{
 "cells": [
  {
   "cell_type": "code",
   "execution_count": 3,
   "metadata": {},
   "outputs": [],
   "source": [
    "#  read test.json\n",
    "import json\n",
    "\n",
    "import pandas as pd\n",
    "import numpy as np\n",
    "\n",
    "# train_file.json open\n",
    "with open('train_file.json') as f:\n",
    "    data = json.load(f)\n",
    "#  convert json to pandas dataframe\n",
    "train = pd.DataFrame(data)\n",
    "\n",
    "# test_file.json open\n",
    "with open('test_file.json') as f:\n",
    "    data = json.load(f)\n",
    "\n",
    "#  convert json to pandas dataframe\n",
    "val = pd.DataFrame(data)"
   ]
  },
  {
   "cell_type": "code",
   "execution_count": 4,
   "metadata": {},
   "outputs": [
    {
     "name": "stderr",
     "output_type": "stream",
     "text": [
      "WARNING:absl:Compiled the loaded model, but the compiled metrics have yet to be built. `model.compile_metrics` will be empty until you train or evaluate the model.\n"
     ]
    },
    {
     "name": "stdout",
     "output_type": "stream",
     "text": [
      "{'Julie', 'Dr. Stryker Ramoray', 'Flight Attendant', 'Dr. Zane', 'Bonnie', 'Joey/Drake', 'Fireman No. 2', 'Nurse #2', 'Terry', 'Bobby', 'Robert', 'The Woman', 'Paul', 'Paolo', 'Dr. Harad', 'Singer', 'Lauren', 'Chandler', 'PBS Volunteer', 'The Dry Cleaner', 'Student', 'Gunther', 'The Grip', 'Elizabeth', 'Young Ethan', 'Ben', 'Janine', 'Tag', 'Dr. Miller', \"Maitre d'\", 'Receptionist', 'Joey', 'Kristen', \"Richard's Date\", 'Voice', 'Guy #1', 'Charlie', 'Rachel', 'A Student', 'Raymond', 'Jim', 'Rachel/actress', 'Max', 'Boy in the Cape', 'The Presenter', 'Emily', 'Isabella', 'Gerston', 'Monica and Ross', 'The Guys', 'Jane', 'Customer', 'Katie', 'Jake', 'Mr. Zelner', 'Monica and Rachel', 'Kori', 'Mike', 'Jill', 'Monica and Phoebe', 'The Lurker', 'Mr. Geller', 'Girl', 'Tony', 'Man', 'The Casting Director', 'Ronni', 'Joanna', 'Older Scientist', 'Kathy', 'Barry', 'Duncan', 'A Female Student', 'Phoebe and Rachel', 'Joanne', 'Sophie', 'Annabelle', 'Lydia', 'Emeril', 'Mr. Heckles', 'an', 'Nurse', 'Dr. Baldhara', 'Tom', 'Ursula', 'The Acting Teacher', 'Joey and Ross', 'The Conductor', 'Casey', 'Dr. Wesley', 'Santos', 'Hotel Clerk', 'Jay Leno', 'Another Scientist', 'Dana', 'The Security Guard', 'Ms. McKenna', 'Phoebe Sr', 'Roger', 'Fireman No. 1', 'Cecilia', 'Russell', 'Joey and Chandler', 'Shelley', 'Fake Monica', 'Trudie Styler', 'Mr. Posner', 'The Hot Girl', 'Nurse #1', '1st Customer', 'Carol', 'Doug', 'The Food Critic', 'The Fireman', 'Cassie', 'Dina', 'Steve', 'The Librarian', 'Front Desk Clerk', 'David', 'Julio', 'Sick Bastard', 'Mrs. Chatracus', 'Mindy', 'Peter', 'Bob', '2nd Customer', 'The Cigarette Guy', 'Pete', 'Monica', 'Wayne', 'Chloe', 'Message', 'Stage Manager', 'Dr. Leedbetter', 'Paleontologist', 'Jeannine', 'Rick', 'Drunken Gambler', 'Both', 'Guy', 'Policeman', 'Janice', 'Richard', 'Woman On Train', 'Gary', 'Mrs. Lynch', 'Eric', 'Megan', 'Bernice', 'Dr. Long', 'Cookie', 'Evil Bitch', 'Dr. Rhodes', 'Director', 'Hitchhiker', 'Fireman No. 3', 'Another Tour Guide', 'The Potential Roommate', 'Alice', 'The Museum Official', 'Susan', 'Allesandro', 'Supervisor', 'Burt', 'Paula', 'Carl', 'The Interviewer', 'Mr. Treeger', 'Phoebe Sr.', 'Hope', 'Rachel and Phoebe', 'Hold Voice', 'Hoshi', 'Nancy', 'The Singing Man', 'Dr. Oberman', 'Teacher', 'Krista', 'Doctor', 'Mrs. Geller', 'Jade', 'Jester', 'Petrie', 'Mrs. Burgin', 'Angela', 'Liam', 'Dr. Drake Remoray', 'The Cooking Teacher', 'Estelle', 'Sarah', 'Tour Guide', 'The Instructor', 'TV Announcer', 'Issac', 'Phoebe', 'All', 'Mark', 'Kim', 'Frank', 'Whitney', 'Ticket Counter Attendant', 'Leslie', 'The Smoking Woman', 'Kristin', 'Jen', \"Mona's Date\", '3rd Customer', 'Ross', 'Stranger', 'Mrs. Green', 'Mr. Burgin', 'Woman', 'The Director', 'Leader', 'Mr. Tribbiani', 'Mischa', 'Aunt Lillian', 'Dr. Ledbetter', 'Waiter', \"Joey's Hand Twin\", 'Hombre Man', 'The Head Librarian', 'Professore Clerk', 'The Vendor', 'Friend No. 2', 'Chip', 'Dr. Green', 'Cliff', 'Mrs. Tedlock', 'Kyle', 'Joshua', 'Kiki', 'Earl', 'Stevens', 'Lorraine', 'Mr. Franklin', 'Stage Director', 'Larry', 'Kate', 'Ross and Rachel', 'Mona', 'Stanley', 'Charlton Heston', 'Danny'}\n",
      "{'sadness', 'surprise', 'disgust', 'fear', 'joy', 'anger', 'neutral'}\n",
      "{'Julie': 0, 'Dr. Stryker Ramoray': 1, 'Flight Attendant': 2, 'Dr. Zane': 3, 'Bonnie': 4, 'Joey/Drake': 5, 'Fireman No. 2': 6, 'Nurse #2': 7, 'Terry': 8, 'Bobby': 9, 'Robert': 10, 'The Woman': 11, 'Paul': 12, 'Paolo': 13, 'Dr. Harad': 14, 'Singer': 15, 'Lauren': 16, 'Chandler': 17, 'PBS Volunteer': 18, 'The Dry Cleaner': 19, 'Student': 20, 'Gunther': 21, 'The Grip': 22, 'Elizabeth': 23, 'Young Ethan': 24, 'Ben': 25, 'Janine': 26, 'Tag': 27, 'Dr. Miller': 28, \"Maitre d'\": 29, 'Receptionist': 30, 'Joey': 31, 'Kristen': 32, \"Richard's Date\": 33, 'Voice': 34, 'Guy #1': 35, 'Charlie': 36, 'Rachel': 37, 'A Student': 38, 'Raymond': 39, 'Jim': 40, 'Rachel/actress': 41, 'Max': 42, 'Boy in the Cape': 43, 'The Presenter': 44, 'Emily': 45, 'Isabella': 46, 'Gerston': 47, 'Monica and Ross': 48, 'The Guys': 49, 'Jane': 50, 'Customer': 51, 'Katie': 52, 'Jake': 53, 'Mr. Zelner': 54, 'Monica and Rachel': 55, 'Kori': 56, 'Mike': 57, 'Jill': 58, 'Monica and Phoebe': 59, 'The Lurker': 60, 'Mr. Geller': 61, 'Girl': 62, 'Tony': 63, 'Man': 64, 'The Casting Director': 65, 'Ronni': 66, 'Joanna': 67, 'Older Scientist': 68, 'Kathy': 69, 'Barry': 70, 'Duncan': 71, 'A Female Student': 72, 'Phoebe and Rachel': 73, 'Joanne': 74, 'Sophie': 75, 'Annabelle': 76, 'Lydia': 77, 'Emeril': 78, 'Mr. Heckles': 79, 'an': 80, 'Nurse': 81, 'Dr. Baldhara': 82, 'Tom': 83, 'Ursula': 84, 'The Acting Teacher': 85, 'Joey and Ross': 86, 'The Conductor': 87, 'Casey': 88, 'Dr. Wesley': 89, 'Santos': 90, 'Hotel Clerk': 91, 'Jay Leno': 92, 'Another Scientist': 93, 'Dana': 94, 'The Security Guard': 95, 'Ms. McKenna': 96, 'Phoebe Sr': 97, 'Roger': 98, 'Fireman No. 1': 99, 'Cecilia': 100, 'Russell': 101, 'Joey and Chandler': 102, 'Shelley': 103, 'Fake Monica': 104, 'Trudie Styler': 105, 'Mr. Posner': 106, 'The Hot Girl': 107, 'Nurse #1': 108, '1st Customer': 109, 'Carol': 110, 'Doug': 111, 'The Food Critic': 112, 'The Fireman': 113, 'Cassie': 114, 'Dina': 115, 'Steve': 116, 'The Librarian': 117, 'Front Desk Clerk': 118, 'David': 119, 'Julio': 120, 'Sick Bastard': 121, 'Mrs. Chatracus': 122, 'Mindy': 123, 'Peter': 124, 'Bob': 125, '2nd Customer': 126, 'The Cigarette Guy': 127, 'Pete': 128, 'Monica': 129, 'Wayne': 130, 'Chloe': 131, 'Message': 132, 'Stage Manager': 133, 'Dr. Leedbetter': 134, 'Paleontologist': 135, 'Jeannine': 136, 'Rick': 137, 'Drunken Gambler': 138, 'Both': 139, 'Guy': 140, 'Policeman': 141, 'Janice': 142, 'Richard': 143, 'Woman On Train': 144, 'Gary': 145, 'Mrs. Lynch': 146, 'Eric': 147, 'Megan': 148, 'Bernice': 149, 'Dr. Long': 150, 'Cookie': 151, 'Evil Bitch': 152, 'Dr. Rhodes': 153, 'Director': 154, 'Hitchhiker': 155, 'Fireman No. 3': 156, 'Another Tour Guide': 157, 'The Potential Roommate': 158, 'Alice': 159, 'The Museum Official': 160, 'Susan': 161, 'Allesandro': 162, 'Supervisor': 163, 'Burt': 164, 'Paula': 165, 'Carl': 166, 'The Interviewer': 167, 'Mr. Treeger': 168, 'Phoebe Sr.': 169, 'Hope': 170, 'Rachel and Phoebe': 171, 'Hold Voice': 172, 'Hoshi': 173, 'Nancy': 174, 'The Singing Man': 175, 'Dr. Oberman': 176, 'Teacher': 177, 'Krista': 178, 'Doctor': 179, 'Mrs. Geller': 180, 'Jade': 181, 'Jester': 182, 'Petrie': 183, 'Mrs. Burgin': 184, 'Angela': 185, 'Liam': 186, 'Dr. Drake Remoray': 187, 'The Cooking Teacher': 188, 'Estelle': 189, 'Sarah': 190, 'Tour Guide': 191, 'The Instructor': 192, 'TV Announcer': 193, 'Issac': 194, 'Phoebe': 195, 'All': 196, 'Mark': 197, 'Kim': 198, 'Frank': 199, 'Whitney': 200, 'Ticket Counter Attendant': 201, 'Leslie': 202, 'The Smoking Woman': 203, 'Kristin': 204, 'Jen': 205, \"Mona's Date\": 206, '3rd Customer': 207, 'Ross': 208, 'Stranger': 209, 'Mrs. Green': 210, 'Mr. Burgin': 211, 'Woman': 212, 'The Director': 213, 'Leader': 214, 'Mr. Tribbiani': 215, 'Mischa': 216, 'Aunt Lillian': 217, 'Dr. Ledbetter': 218, 'Waiter': 219, \"Joey's Hand Twin\": 220, 'Hombre Man': 221, 'The Head Librarian': 222, 'Professore Clerk': 223, 'The Vendor': 224, 'Friend No. 2': 225, 'Chip': 226, 'Dr. Green': 227, 'Cliff': 228, 'Mrs. Tedlock': 229, 'Kyle': 230, 'Joshua': 231, 'Kiki': 232, 'Earl': 233, 'Stevens': 234, 'Lorraine': 235, 'Mr. Franklin': 236, 'Stage Director': 237, 'Larry': 238, 'Kate': 239, 'Ross and Rachel': 240, 'Mona': 241, 'Stanley': 242, 'Charlton Heston': 243, 'Danny': 244, 'UNK': 245}\n",
      "{'sadness': 0, 'surprise': 1, 'disgust': 2, 'fear': 3, 'joy': 4, 'anger': 5, 'neutral': 6}\n"
     ]
    }
   ],
   "source": [
    "#  load the model\n",
    "from tensorflow.keras.models import load_model\n",
    "model = load_model('model.h5')\n",
    "\n",
    "\n",
    "df = pd.concat([train, val])\n",
    "\n",
    "unique_speakers = set()\n",
    "for i in range(len(df)):\n",
    "    \n",
    "    for sp in (df.iloc[i]['speakers']):\n",
    "        unique_speakers.add(sp)\n",
    "\n",
    "print(unique_speakers)\n",
    "speaker_to_ix = {sp: i for i, sp in enumerate(unique_speakers)}\n",
    "speaker_to_ix['UNK'] = len(speaker_to_ix)\n",
    "\n",
    "unique_emotions = set()\n",
    "for j in range(len(df)):\n",
    "    for sp in df.iloc[j]['emotions']:\n",
    "        unique_emotions.add(sp)\n",
    "\n",
    "print(unique_emotions)\n",
    "emotion_to_ix = {sp: i for i, sp in enumerate(unique_emotions)}\n",
    "\n",
    "print(speaker_to_ix)\n",
    "print(emotion_to_ix)\n",
    "\n",
    "\n",
    "\n"
   ]
  },
  {
   "cell_type": "code",
   "execution_count": 9,
   "metadata": {},
   "outputs": [
    {
     "name": "stdout",
     "output_type": "stream",
     "text": [
      "          episode                                           speakers  \\\n",
      "0  utterance_3421  [Chandler, Joey, Chandler, Joey, Joey, Chandle...   \n",
      "1   utterance_119  [Elizabeth, Ross, Paul, Ross, Paul, Ross, Paul...   \n",
      "2   utterance_510  [Ross, Chandler, Ross, Chandler, Ross, Chandle...   \n",
      "3   utterance_172         [Rachel, Joey, Rachel, Joey, Rachel, Joey]   \n",
      "4  utterance_3949  [Monica, Monica, Phoebe, Joey, Joey, Joey, Rac...   \n",
      "\n",
      "                                            emotions  \\\n",
      "0  [anger, neutral, neutral, surprise, anger, dis...   \n",
      "1  [neutral, joy, neutral, neutral, anger, surpri...   \n",
      "2  [neutral, neutral, neutral, joy, fear, joy, su...   \n",
      "3  [surprise, neutral, disgust, neutral, surprise...   \n",
      "4  [disgust, disgust, anger, sadness, surprise, a...   \n",
      "\n",
      "                                          utterances  \\\n",
      "0  [Hey! Hold on a minute, hold on a second. Do y...   \n",
      "1  [This is my father, Paul Stevens. Dad, this is...   \n",
      "2  [Ok, bye.  Well, Monica's not coming, it's jus...   \n",
      "3  [I thought I was a complete idiot., Hey, Im w...   \n",
      "4  [Dad, please don't pick your teeth out here!, ...   \n",
      "\n",
      "                                            triggers  \n",
      "0  [0.0, 0.0, 0.0, 0.0, 0.0, 0.0, 0.0, 0.0, 0.0, ...  \n",
      "1  [0.0, 0.0, 0.0, 0.0, 0.0, 0.0, 0.0, 0.0, 0.0, ...  \n",
      "2      [0.0, 0.0, 0.0, 0.0, 0.0, 0.0, 0.0, 1.0, 0.0]  \n",
      "3                     [0.0, 0.0, 0.0, 0.0, 1.0, 0.0]  \n",
      "4  [0.0, 0.0, 0.0, 0.0, 0.0, 0.0, 0.0, 0.0, 0.0, ...  \n"
     ]
    }
   ],
   "source": [
    "test=pd.read_json('test_file.json')\n"
   ]
  },
  {
   "cell_type": "code",
   "execution_count": 7,
   "metadata": {},
   "outputs": [
    {
     "name": "stdout",
     "output_type": "stream",
     "text": [
      "\u001b[1m228/228\u001b[0m \u001b[32m━━━━━━━━━━━━━━━━━━━━\u001b[0m\u001b[37m\u001b[0m \u001b[1m3s\u001b[0m 11ms/step\n"
     ]
    }
   ],
   "source": [
    "# test the model on testidation dataset\n",
    "import tensorflow as tf\n",
    "from tensorflow.keras.models import Model\n",
    "from tensorflow.keras.layers import Input, LSTM, Dense, Embedding, Concatenate, Dropout, Flatten\n",
    "from tensorflow.keras.preprocessing.text import Tokenizer\n",
    "from tensorflow.keras.preprocessing.sequence import pad_sequences\n",
    "\n",
    "\n",
    "max_vocab_size = 10000\n",
    "max_sequence_length = 50\n",
    "embedding_dim = 50\n",
    "lstm_dim = 128\n",
    "\n",
    "test_utterances=test['utterances']\n",
    "test_triggers=test['triggers']\n",
    "test_speakers=test['speakers']\n",
    "test_emotions=test['emotions']\n",
    "\n",
    "test_utterances_flat = [item for sublist in test_utterances for item in sublist]\n",
    "test_triggers_flat = [item for sublist in test_triggers for item in sublist]\n",
    "test_speaker_flat = [item for sublist in test_speakers for item in sublist]\n",
    "test_emotion_flat = [item for sublist in test_emotions for item in sublist]\n",
    "\n",
    "test_speaker_flat = [speaker_to_ix.get(sp, speaker_to_ix['UNK']) for sp in test_speaker_flat]\n",
    "test_emotion_flat = [emotion_to_ix.get(sp, speaker_to_ix['UNK']) for sp in test_emotion_flat]\n",
    "\n",
    "# Tokenize and pad sequences\n",
    "tokenizer = Tokenizer(num_words=max_vocab_size)\n",
    "\n",
    "test_X_seq = pad_sequences(tokenizer.texts_to_sequences(test_utterances_flat), maxlen=max_sequence_length)\n",
    "\n",
    "\n",
    "test_X_seq = tf.convert_to_tensor(test_X_seq)\n",
    "\n",
    "\n",
    "test_X_speaker = tf.convert_to_tensor(test_speaker_flat, dtype=tf.int32)\n",
    "test_X_emotion = tf.convert_to_tensor(test_emotion_flat, dtype=tf.int32)\n",
    "\n",
    "# Predict triggers and convert to binary\n",
    "predicted_triggers = model.predict([test_X_seq, test_X_speaker, test_X_emotion])\n",
    "predicted_triggers = [1 if i > 0.4 else 0 for i in predicted_triggers]\n",
    "predicted_triggers = np.array(predicted_triggers)\n",
    "\n"
   ]
  },
  {
   "cell_type": "code",
   "execution_count": null,
   "metadata": {},
   "outputs": [],
   "source": []
  },
  {
   "cell_type": "code",
   "execution_count": null,
   "metadata": {},
   "outputs": [],
   "source": []
  },
  {
   "cell_type": "code",
   "execution_count": null,
   "metadata": {},
   "outputs": [],
   "source": []
  },
  {
   "cell_type": "code",
   "execution_count": null,
   "metadata": {},
   "outputs": [],
   "source": []
  }
 ],
 "metadata": {
  "kernelspec": {
   "display_name": "Python 3",
   "language": "python",
   "name": "python3"
  },
  "language_info": {
   "codemirror_mode": {
    "name": "ipython",
    "version": 3
   },
   "file_extension": ".py",
   "mimetype": "text/x-python",
   "name": "python",
   "nbconvert_exporter": "python",
   "pygments_lexer": "ipython3",
   "version": "3.11.9"
  }
 },
 "nbformat": 4,
 "nbformat_minor": 2
}
